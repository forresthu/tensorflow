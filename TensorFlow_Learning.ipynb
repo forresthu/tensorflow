{
  "nbformat": 4,
  "nbformat_minor": 0,
  "metadata": {
    "colab": {
      "name": "TensorFlow Learning.ipynb",
      "provenance": [],
      "authorship_tag": "ABX9TyPtLBjNzCXje3AMtphO7VpY",
      "include_colab_link": true
    },
    "kernelspec": {
      "name": "python3",
      "display_name": "Python 3"
    }
  },
  "cells": [
    {
      "cell_type": "markdown",
      "metadata": {
        "id": "view-in-github",
        "colab_type": "text"
      },
      "source": [
        "<a href=\"https://colab.research.google.com/github/forresthu/tensorflow/blob/master/TensorFlow_Learning.ipynb\" target=\"_parent\"><img src=\"https://colab.research.google.com/assets/colab-badge.svg\" alt=\"Open In Colab\"/></a>"
      ]
    },
    {
      "cell_type": "markdown",
      "metadata": {
        "id": "n3LXRxdnMHXD"
      },
      "source": [
        "# Tensorlfow Learning\r\n",
        "TensorFlow website has sections of:\r\n",
        "+ Install\r\n",
        "+ Learn\r\n",
        "+ API\r\n",
        "+ Resource\r\n",
        "+ Community\r\n",
        "+ Why TensorFlow\r\n",
        "\r\n",
        "We are skip Install section, since we are using Colab which has Tensorflow pre-installed. \r\n",
        "\r\n",
        "In Learn section, it has tutorials and guides for TensorFlow Core, TensorFlow.js, TensorFlwo mobile, TensorFlow Entended(TFX), and TensorFlow for Apple. \r\n",
        "\r\n",
        "In API section, it contains reference documentation for tf core, tf.js, tf lite, and TFX. Currently TF supports three languages on client end, Python, C++, and Java. \r\n",
        "\r\n",
        "In Resources section, it contains products or utilities for TF, such as pre-trained models, pre-loaded dataset. Useful TF tools that help you to gain efficiency. Those tools are CoLab, TensorBoard, What-If Tool, ML Perf, XLA(Accelerated Linear Algebra), TF Playground, TF Research Cloud, and MLIR (A new intermediate representation and compiler framework)\r\n",
        "\r\n",
        "Resource section also covers useful third party libraries and extensions. Information about TF Certification program. Learning materails on ML subject. And the ethic of applying ML.\r\n",
        "\r\n",
        "In Community, it provides information about how to make contribute, get support, get involved, and stay informed via official blog, Twitter, YouTube, and newsletter. \r\n",
        "\r\n",
        "In Why TensorFlow section, you could find TF Partners, Case studies, and the history about TensorFlow. \r\n",
        "\r\n",
        "\r\n"
      ]
    },
    {
      "cell_type": "markdown",
      "metadata": {
        "id": "CA7a1DCHQkFu"
      },
      "source": [
        "# Learn\r\n"
      ]
    },
    {
      "cell_type": "code",
      "metadata": {
        "id": "aCv0CVXIMJFO"
      },
      "source": [
        ""
      ],
      "execution_count": null,
      "outputs": []
    },
    {
      "cell_type": "markdown",
      "metadata": {
        "id": "QPXUHNzkMcW2"
      },
      "source": [
        "## New Section"
      ]
    },
    {
      "cell_type": "code",
      "metadata": {
        "id": "sC1wUuj9Mfjj"
      },
      "source": [
        ""
      ],
      "execution_count": null,
      "outputs": []
    }
  ]
}